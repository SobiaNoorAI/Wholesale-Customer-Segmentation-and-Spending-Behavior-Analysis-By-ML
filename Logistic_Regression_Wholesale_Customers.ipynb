{
  "nbformat": 4,
  "nbformat_minor": 0,
  "metadata": {
    "colab": {
      "provenance": [],
      "authorship_tag": "ABX9TyNU8dLyGNBAhzstai+z4OMP",
      "include_colab_link": true
    },
    "kernelspec": {
      "name": "python3",
      "display_name": "Python 3"
    },
    "language_info": {
      "name": "python"
    }
  },
  "cells": [
    {
      "cell_type": "markdown",
      "metadata": {
        "id": "view-in-github",
        "colab_type": "text"
      },
      "source": [
        "<a href=\"https://colab.research.google.com/github/SobiaNoorAI/Wholesale-Customer-Segmentation-and-Spending-Behavior-Analysis-By-ML/blob/main/Logistic_Regression_Wholesale_Customers.ipynb\" target=\"_parent\"><img src=\"https://colab.research.google.com/assets/colab-badge.svg\" alt=\"Open In Colab\"/></a>"
      ]
    },
    {
      "cell_type": "markdown",
      "source": [
        "# Channel Prediction Model using Logistic Regression 🚀\n"
      ],
      "metadata": {
        "id": "98zVYKWVsUoo"
      }
    },
    {
      "cell_type": "markdown",
      "source": [
        "# 1️⃣ Problem Statement\n",
        "\n",
        "Predict the customer's channel (Horeca or Retail) based on product categories purchase."
      ],
      "metadata": {
        "id": "UPVA9U76sZnG"
      }
    },
    {
      "cell_type": "markdown",
      "source": [
        "#2️⃣ Import Required Libraries"
      ],
      "metadata": {
        "id": "AUkcp69Osnp2"
      }
    },
    {
      "cell_type": "code",
      "execution_count": null,
      "metadata": {
        "id": "FZZzYLdxr8uT"
      },
      "outputs": [],
      "source": [
        "# import required libraries\n",
        "import pandas as pd\n",
        "import numpy as np\n",
        "import matplotlib.pyplot as plt\n",
        "import seaborn as sns\n",
        "from sklearn.model_selection import train_test_split\n",
        "from sklearn.preprocessing import StandardScaler\n",
        "from sklearn.linear_model import LogisticRegression\n",
        "from sklearn.metrics import accuracy_score, classification_report, confusion_matrix"
      ]
    }
  ]
}